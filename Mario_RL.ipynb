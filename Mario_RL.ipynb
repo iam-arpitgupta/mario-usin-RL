{
  "nbformat": 4,
  "nbformat_minor": 0,
  "metadata": {
    "colab": {
      "provenance": []
    },
    "kernelspec": {
      "name": "python3",
      "display_name": "Python 3"
    },
    "language_info": {
      "name": "python"
    }
  },
  "cells": [
    {
      "cell_type": "code",
      "execution_count": null,
      "metadata": {
        "colab": {
          "base_uri": "https://localhost:8080/",
          "height": 399
        },
        "collapsed": true,
        "id": "kp9D5Z6GZ9xq",
        "outputId": "0b589ca8-2bb3-412e-bf5d-a76cb1b33146"
      },
      "outputs": [
        {
          "output_type": "error",
          "ename": "ModuleNotFoundError",
          "evalue": "No module named 'stable_baselines3'",
          "traceback": [
            "\u001b[0;31m---------------------------------------------------------------------------\u001b[0m",
            "\u001b[0;31mModuleNotFoundError\u001b[0m                       Traceback (most recent call last)",
            "\u001b[0;32m<ipython-input-4-2544850c5970>\u001b[0m in \u001b[0;36m<cell line: 2>\u001b[0;34m()\u001b[0m\n\u001b[1;32m      1\u001b[0m \u001b[0;32mimport\u001b[0m \u001b[0mgym\u001b[0m\u001b[0;34m\u001b[0m\u001b[0;34m\u001b[0m\u001b[0m\n\u001b[0;32m----> 2\u001b[0;31m \u001b[0;32mfrom\u001b[0m \u001b[0mstable_baselines3\u001b[0m \u001b[0;32mimport\u001b[0m \u001b[0mA2C\u001b[0m\u001b[0;34m\u001b[0m\u001b[0;34m\u001b[0m\u001b[0m\n\u001b[0m\u001b[1;32m      3\u001b[0m \u001b[0;32mfrom\u001b[0m \u001b[0mstable_baselines3\u001b[0m\u001b[0;34m.\u001b[0m\u001b[0mcommon\u001b[0m\u001b[0;34m.\u001b[0m\u001b[0mvec_env\u001b[0m \u001b[0;32mimport\u001b[0m \u001b[0mVecFrameStack\u001b[0m\u001b[0;34m\u001b[0m\u001b[0;34m\u001b[0m\u001b[0m\n\u001b[1;32m      4\u001b[0m \u001b[0;32mfrom\u001b[0m \u001b[0mstable_baselines3\u001b[0m\u001b[0;34m.\u001b[0m\u001b[0mcommon\u001b[0m\u001b[0;34m.\u001b[0m\u001b[0mevaluation\u001b[0m \u001b[0;32mimport\u001b[0m \u001b[0mevaluate_policy\u001b[0m\u001b[0;34m\u001b[0m\u001b[0;34m\u001b[0m\u001b[0m\n\u001b[1;32m      5\u001b[0m \u001b[0;32mfrom\u001b[0m \u001b[0mstable_baselines3\u001b[0m\u001b[0;34m.\u001b[0m\u001b[0mcommon\u001b[0m\u001b[0;34m.\u001b[0m\u001b[0menv_util\u001b[0m \u001b[0;32mimport\u001b[0m \u001b[0mmake_atari_env\u001b[0m\u001b[0;34m\u001b[0m\u001b[0;34m\u001b[0m\u001b[0m\n",
            "\u001b[0;31mModuleNotFoundError\u001b[0m: No module named 'stable_baselines3'",
            "",
            "\u001b[0;31m---------------------------------------------------------------------------\u001b[0;32m\nNOTE: If your import is failing due to a missing package, you can\nmanually install dependencies using either !pip or !apt.\n\nTo view examples of installing some common dependencies, click the\n\"Open Examples\" button below.\n\u001b[0;31m---------------------------------------------------------------------------\u001b[0m\n"
          ],
          "errorDetails": {
            "actions": [
              {
                "action": "open_url",
                "actionText": "Open Examples",
                "url": "/notebooks/snippets/importing_libraries.ipynb"
              }
            ]
          }
        }
      ],
      "source": [
        "!pip install gym_super_mario_bros==7.3.0 nes_py"
      ]
    },
    {
      "cell_type": "code",
      "source": [
        "#importing the game\n",
        "import gym_super_mario_bros\n",
        "#joypad wrapper\n",
        "from nes.py.wrapper import JoypadSpace\n",
        "#importing the SIMPLIFIED version\n",
        "from gym_super_mario_bros.actions import SIMPLE_MOVEMENT"
      ],
      "metadata": {
        "id": "bueKkMfLr1T-"
      },
      "execution_count": null,
      "outputs": []
    },
    {
      "cell_type": "code",
      "source": [
        "SIMPLE_MOVEMENT#gonna simplifies the env for the ai to learn"
      ],
      "metadata": {
        "id": "aoFOnBGVsiZW"
      },
      "execution_count": null,
      "outputs": []
    },
    {
      "cell_type": "code",
      "source": [
        "#setup the game\n",
        "env = gym_super_mario_bros.make('SuperMarioBros-v0')\n",
        "#so with this line of code we are simplifying the movement tht means after tht the ai dont have\n",
        "#learn so much actions ,baically we are reducing the number of actions for the ai to learn quickly\n",
        "env = JoypadSpace(env,SIMPLE_MOVEMENT)"
      ],
      "metadata": {
        "id": "hgin9g5Msicb"
      },
      "execution_count": null,
      "outputs": []
    },
    {
      "cell_type": "code",
      "source": [
        "#this give sus the frame of the game\n",
        "env.observation_space.shape()\n",
        "#this wold give us the number of actions like left ,right\n",
        "env.action_space"
      ],
      "metadata": {
        "id": "jWE-RZaLuQyw"
      },
      "execution_count": null,
      "outputs": []
    },
    {
      "cell_type": "code",
      "source": [
        "#a flag for restart or not\n",
        "done = True\n",
        "#we are looping through the each set of frames\n",
        "for step in range(100000):\n",
        "  #start the game to begin with\n",
        "  if done:\n",
        "    #start the game\n",
        "    env.reset()\n",
        "    #Do random actions\n",
        "    #done - whether we die or not\n",
        "    #info - info about game\n",
        "    #reward,state - is the game env only\n",
        "  state,reward,done,info = env.step(env,action_space.sample())\n",
        "  #show the gameon the screen\n",
        "  env.render()\n",
        "env.close()\n"
      ],
      "metadata": {
        "id": "hFq8zugDuQ1l"
      },
      "execution_count": null,
      "outputs": []
    },
    {
      "cell_type": "code",
      "source": [
        "state = env.reset()"
      ],
      "metadata": {
        "id": "FBfhS38_r1Xc"
      },
      "execution_count": null,
      "outputs": []
    },
    {
      "cell_type": "code",
      "source": [
        "wnv.step(1)[1]"
      ],
      "metadata": {
        "id": "YE8GXewQrzTt"
      },
      "execution_count": null,
      "outputs": []
    },
    {
      "cell_type": "markdown",
      "source": [
        "##pre-processing"
      ],
      "metadata": {
        "id": "Ax_4NvJA1EAz"
      }
    },
    {
      "cell_type": "markdown",
      "source": [
        "in this step we gonna use the convert the RGB into gray scale ,and also gonna divide into different frames which would help in processing the data fast and we after tht we gonna stack up all together"
      ],
      "metadata": {
        "id": "OkQLL12_5vME"
      }
    },
    {
      "cell_type": "code",
      "source": [
        "!pip3 install torch torchvision torchaudio --index-url https://download.pytorch.org/whl/cu118"
      ],
      "metadata": {
        "id": "q9dDjx3H_9tT"
      },
      "execution_count": null,
      "outputs": []
    },
    {
      "cell_type": "code",
      "source": [
        "!pip install stable-baselines3[extra]"
      ],
      "metadata": {
        "id": "BugZdsGtAS6W"
      },
      "execution_count": null,
      "outputs": []
    },
    {
      "cell_type": "code",
      "source": [
        "#import frame stack wrapper and gray scale wrapper\n",
        "from gym.wrappers import GrayScaleObservations\n",
        "#import vectorization wrapper\n",
        "#veframestack -> allow us to work with the frames\n",
        "from stable_baselines3.common.vec_env import vecFrameStack,DummyVecStack\n",
        "#matplotlib fro viz\n",
        "import matplotlib.pyplot as plt"
      ],
      "metadata": {
        "id": "UL_pICj51Gzk"
      },
      "execution_count": null,
      "outputs": []
    },
    {
      "cell_type": "code",
      "source": [
        "##baseline env\n",
        "env = gym_super_mario_bros.make('SuperMarioBros-v0')\n",
        "#simplification of the controls\n",
        "env = JoypadSpace(env,SIMPLE_MOVEMENT)\n",
        "#grayscale\n",
        "env = GrayScaleObservations(env,keep_dim=True)\n",
        "#wrapping inside the dummy env\n",
        "env = DummyVecStack([lambda:env])\n",
        "#stack the frames\n",
        "env = VecFrameStack(env,4,channels_order='last')"
      ],
      "metadata": {
        "id": "BWxU_DJA1G10"
      },
      "execution_count": null,
      "outputs": []
    },
    {
      "cell_type": "code",
      "source": [
        "state = env.reset()\n",
        "\n",
        "state.shape"
      ],
      "metadata": {
        "id": "FcJwvey7FI0g"
      },
      "execution_count": null,
      "outputs": []
    },
    {
      "cell_type": "code",
      "source": [
        "state,reward,done,info = env.step([5])"
      ],
      "metadata": {
        "id": "wfhpPrKvYn2X"
      },
      "execution_count": null,
      "outputs": []
    },
    {
      "cell_type": "code",
      "source": [
        "plt.figure(figsize=(10,8))\n",
        "for idx in range(state.shape[3]):\n",
        "  plt.subplot(1,4,idx+1)\n",
        "  plt.imshow(state[0][:,:,idx])\n",
        "plt.show()"
      ],
      "metadata": {
        "id": "XrRMWAwxY-XK"
      },
      "execution_count": null,
      "outputs": []
    },
    {
      "cell_type": "markdown",
      "source": [
        "Train the RL model"
      ],
      "metadata": {
        "id": "DQRFkFieaKld"
      }
    },
    {
      "cell_type": "code",
      "source": [
        "#dependencies\n",
        "import os\n",
        "##ppo -algo\n",
        "from stable_baselines3 import PPO\n",
        "#basecallbacks for saving the model\n",
        "from stable_baselines3.common.callbacks import BaseCallback\n"
      ],
      "metadata": {
        "id": "CF8NCI0zaea9"
      },
      "execution_count": null,
      "outputs": []
    },
    {
      "cell_type": "code",
      "source": [
        "#this func will allow us to save our model on every x steps\n",
        "class TrainAndLoggingCallback(baseCallabck):\n",
        "  def __init__(self,check_freq,save_path,verbose=1):\n",
        "    super(TrianAndLogginGCallback,self).__init__(verbose)\n",
        "    self.check_freq = check_freq\n",
        "    self.save_path = save_path\n",
        "\n",
        "  def __init_callback(self):\n",
        "    if self.save_path is not None:\n",
        "      os.makedirs(self.save_path,exist_ok=True)\n",
        "\n",
        "  def _on_step(self):\n",
        "    if self.n_calls % self.check_freq == 0:\n",
        "      model_path = os.path.join(self.save_path,'best_model_{}'.format(self.n_calls))\n",
        "      self.model.save(model_path)\n",
        "\n",
        "\n",
        "    return True\n",
        "\n"
      ],
      "metadata": {
        "id": "wAXgAAE9bnf0"
      },
      "execution_count": null,
      "outputs": []
    },
    {
      "cell_type": "code",
      "source": [
        "CHECKPOINT_DIR = './train/'\n",
        "LOG_DIR = './logs/'"
      ],
      "metadata": {
        "id": "DzjRzUFBecNY"
      },
      "execution_count": null,
      "outputs": []
    },
    {
      "cell_type": "code",
      "source": [
        "#setup model saving dir\n",
        "#instance of the function\n",
        "#will save the model after every 10000 step\n",
        "callback = TrainAndLoggingCallbacks(check_freq =10000,save_path=CHECKPOINT_DIR)"
      ],
      "metadata": {
        "id": "vIHbEN4qbnix"
      },
      "execution_count": null,
      "outputs": []
    },
    {
      "cell_type": "code",
      "source": [
        "#this is where ai model starts\n",
        "model = PPO('CnnPolicy',env,verbose=1,tensorboard_log = LOG_DIR,learning_rate=0.000001,\n",
        "            n_steps=512)"
      ],
      "metadata": {
        "id": "edpuqiXke9No"
      },
      "execution_count": null,
      "outputs": []
    },
    {
      "cell_type": "code",
      "source": [
        "model.learn(total_timesteps=1000000,call_back=callback)#model starts to learn"
      ],
      "metadata": {
        "id": "BBFTwl5XhZEJ"
      },
      "execution_count": null,
      "outputs": []
    },
    {
      "cell_type": "markdown",
      "source": [
        "Testing"
      ],
      "metadata": {
        "id": "wwp7YfEvidH4"
      }
    },
    {
      "cell_type": "code",
      "source": [
        "model = PPO.load('./train/best_model_1000000')\n",
        "state = env.reset()"
      ],
      "metadata": {
        "id": "wdcqHd5EhZHC"
      },
      "execution_count": null,
      "outputs": []
    },
    {
      "cell_type": "code",
      "source": [
        "#start the game\n",
        "state = env.reset()\n",
        "#loop through the game\n",
        "while True:\n",
        "\n",
        "  action,_state = model.predict(state)\n",
        "  state,reward,done,info = env.step(action)\n",
        "  env.render()"
      ],
      "metadata": {
        "id": "V7TQOGXsjeOd"
      },
      "execution_count": null,
      "outputs": []
    }
  ]
}